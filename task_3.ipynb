{
 "cells": [
  {
   "cell_type": "markdown",
   "metadata": {},
   "source": [
    "import libraries"
   ]
  },
  {
   "cell_type": "code",
   "execution_count": 2,
   "metadata": {},
   "outputs": [],
   "source": [
    "import pandas as pd\n",
    "import numpy as np\n",
    "import sys\n",
    "import math\n",
    "import matplotlib.pyplot as plt\n",
    "from IPython.core.debugger import set_trace\n",
    "from sklearn.tree import DecisionTreeRegressor\n",
    "from sklearn.neighbors import KNeighborsClassifier\n",
    "np.random.seed(1234)"
   ]
  },
  {
   "cell_type": "markdown",
   "metadata": {},
   "source": [
    "Task 1"
   ]
  },
  {
   "cell_type": "code",
   "execution_count": 3,
   "metadata": {},
   "outputs": [],
   "source": [
    "#Read CSV dataset files from current directory into Numpy arrays\n",
    "hospitalization_df = pd.read_csv('aggregated_cc_by.csv',sep = ',',low_memory=False)\n",
    "search_trends_df = pd.read_csv('2020_US_weekly_symptoms_dataset.csv',sep = ',',low_memory=False)\n",
    "\n",
    "#Isolate Hospitalization data pertaining to US States in Search Trends dataset\n",
    "hospitalization_df=hospitalization_df[hospitalization_df['open_covid_region_code'].isin(search_trends_df['open_covid_region_code'].unique())]\n",
    "\n",
    "#Sort Hospitalization dataset based on state then date\n",
    "hospitalization_df=hospitalization_df.sort_values(by=['open_covid_region_code','date'])\n",
    "\n",
    "#Remove data before 2020-03-09 in the Symptom Searches dataset in order to merge both datasets\n",
    "#Note that 2020-03-09 is the first Monday which has data in both datasets for the US regions\n",
    "search_trends_df=search_trends_df[search_trends_df['date'] >= \"2020-03-09\"]\n",
    "\n",
    "#Remove data before 2020-03-09 in the Hospitalization dataset in order to merge both datasets\n",
    "#Note that 2020-03-09 is the first Monday which has data in both datasets for the US regions\n",
    "hospitalization_df=hospitalization_df[hospitalization_df['date'] >= \"2020-03-09\"]\n",
    "\n",
    "#Remove data after 2020-09-27 (last Sunday in both datasets) from both datasets\n",
    "#in order to merge both datasets on a weekly basis\n",
    "hospitalization_df=hospitalization_df[hospitalization_df['date'] <= \"2020-09-27\"]\n",
    "search_trends_df=search_trends_df[search_trends_df['date'] <= \"2020-09-27\"]\n",
    "\n",
    "#Delete columns from Hospitalization and Search Trends data that contain only NaN values\n",
    "hospitalization_df=hospitalization_df.dropna(how='all', axis=1)\n",
    "search_trends_df=search_trends_df.dropna(how='all', axis=1)\n",
    "\n",
    "#Isolate data for each Sunday of week (weekly cumulative total of Covid Hospitalizations is at the end of the week)\n",
    "sunday_data=hospitalization_df[pd.to_datetime(hospitalization_df['date']).dt.dayofweek==6].copy(deep=True)\n",
    "\n",
    "#Replace daily data in Hospitalization dataset with the Monday date of the corresponding week\n",
    "hospitalization_df['date']=pd.to_datetime(hospitalization_df['date']) - pd.to_timedelta(pd.to_datetime(hospitalization_df['date']).dt.dayofweek, unit='d')\n",
    "\n",
    "#Add up daily Covid cases to get weekly count\n",
    "sum_weekly_data=hospitalization_df.groupby(['open_covid_region_code','date']).sum().reset_index()['hospitalized_new']\n",
    "sunday_data=sunday_data.reset_index().assign(hospitalized_new=sum_weekly_data)\n",
    "sunday_data['date']=pd.to_datetime(sunday_data['date']) - pd.to_timedelta(pd.to_datetime(sunday_data['date']).dt.dayofweek, unit='d')\n",
    "hospitalization_df=sunday_data\n",
    "\n",
    "#Merge data\n",
    "merged_data_df = pd.concat([hospitalization_df.reset_index(drop=True),search_trends_df.reset_index(drop=True)],axis=1)\n",
    "\n",
    "#Delete duplicate columns and unnecessary columns\n",
    "merged_data_df = merged_data_df.loc[:,~merged_data_df.columns.duplicated()]\n",
    "merged_data_df=merged_data_df.drop(['index','sub_region_1','open_covid_region_code','hospitalized_cumulative','country_region_code','country_region','sub_region_1_code'], axis=1)\n",
    "\n",
    "#Remove columns with more than 35% NaN values\n",
    "threshold=0.35\n",
    "missings = merged_data_df.isna().sum()/merged_data_df.shape[0]\n",
    "deleting = merged_data_df.columns[missings>threshold]\n",
    "cols = merged_data_df.columns[missings<=threshold]\n",
    "merged_data_df.drop(deleting,axis=1,inplace=True)\n",
    "\n",
    "symptoms = merged_data_df.columns[3:]\n",
    "filldf = pd.DataFrame(data=np.zeros(merged_data_df.shape),columns=merged_data_df.columns)\n",
    "themin = np.inf\n",
    "\n",
    "for state in merged_data_df['region_name'].unique():\n",
    "    location = merged_data_df['region_name']==state, symptoms\n",
    "    k = merged_data_df.loc[location]\n",
    "    #Minimum accross all symptom trends in specific US region\n",
    "    min2 = np.min(np.min(k))\n",
    "    if min2<themin:\n",
    "        #Minimum accross all symptom trends and US regions\n",
    "        themin = min2\n",
    "    filldf.loc[location] = min2\n",
    "\n",
    "#Fill NaN values in each column with column minimum\n",
    "merged_data_df.fillna(filldf,inplace=True)\n",
    "if merged_data_df.isnull().values.any():\n",
    "    merged_data_df.fillna(themin,inplace=True)\n",
    "\n",
    "#delete states with 0 hospitalizations\n",
    "states = merged_data_df['region_name'].unique()\n",
    "threshold_on_0=0.8\n",
    "for state in states:\n",
    "    hospitalized_in_state = merged_data_df.loc[merged_data_df['region_name']==state,'hospitalized_new']\n",
    "    hospitalized_count = len(hospitalized_in_state[hospitalized_in_state==0].values)\n",
    "    if hospitalized_count>hospitalized_in_state.shape[0]*threshold_on_0:\n",
    "        merged_data_df.drop(merged_data_df[merged_data_df['region_name']==state].index,axis=0,inplace=True) \n",
    "\n",
    "#We will take into account internet population\n",
    "#because the data only makes sense in one state, it is comparable. If we want to \n",
    "#compare between states, we need to scale them.\n",
    "internet_usage_df = pd.read_excel('table2.xlsx')\n",
    "internet_usage_df.drop(['total population', 'percentage of internet users'],axis=1, inplace=True)\n",
    "states = merged_data_df['region_name'].unique()\n",
    "internet_usage_df.rename(columns={ internet_usage_df.columns[0]: \"states\" }, inplace = True)\n",
    "truncated_internet_usage_df = internet_usage_df.loc[internet_usage_df['states'].isin(states)]\n",
    "cols = merged_data_df.columns[3:]\n",
    "for state in truncated_internet_usage_df['states']:\n",
    "    merged_data_df.loc[merged_data_df['region_name']==state, cols] *= float(truncated_internet_usage_df[truncated_internet_usage_df['states']==state]['No. internet users']/100000)\n",
    "\n",
    "#States like Nebraska has a crazy increases in hospitalization_new at some points\n",
    "#Here we remove those States from the dataset\n",
    "for state in ['Nebraska','New Mexico','Rhode Island']:\n",
    "    indexes = merged_data_df[merged_data_df['region_name']==state].index\n",
    "    merged_data_df.drop(indexes,inplace=True)\n"
   ]
  },
  {
   "cell_type": "markdown",
   "metadata": {},
   "source": [
    "we will mostly use KNN and decision tree code provided in class, but do some modification where we need regression instead of classification"
   ]
  },
  {
   "cell_type": "code",
   "execution_count": 4,
   "metadata": {},
   "outputs": [],
   "source": [
    "#distance function\n",
    "euclidean = lambda x1, x2: np.sqrt(np.sum((x1 - x2)**2, axis=-1))\n",
    "manhattan = lambda x1, x2: np.sum(np.abs(x1 - x2), axis=-1)\n",
    "class KNN:\n",
    "    def __init__(self, K=1, dist_fn= euclidean):\n",
    "        self.dist_fn = dist_fn\n",
    "        self.K = K\n",
    "        return\n",
    "    \n",
    "    def fit(self, x,y):\n",
    "        self.x = x\n",
    "        self.y = y\n",
    "        return self\n",
    "    \n",
    "    def predict(self, x_test):\n",
    "        num_test = x_test.shape[0]\n",
    "        self.x = np.array(self.x, dtype=np.float64)\n",
    "        \n",
    "        #create distance between each x_test and self.x\n",
    "        x_test = np.array(x_test, dtype=np.float64)\n",
    "        distances = self.dist_fn(self.x[None,:,:], x_test[:,None,:]) # num_test x num_train\n",
    "        y_res = np.zeros((x_test.shape[0], self.K), dtype=np.float64)\n",
    "        knns = np.zeros((x_test.shape[0], self.K), dtype=int)\n",
    "        for i in range(num_test):\n",
    "            #find the shortest distance\n",
    "            knns[i,:] = np.argsort(distances[i])[:self.K]\n",
    "            \n",
    "            #find the labels of those shortest distances\n",
    "            y_res[i,:] = self.y[knns[i,:]].T.ravel()\n",
    "        return y_res, knns\n",
    "\n",
    "#now begins for decision tree class\n",
    "class Node:\n",
    "    def __init__(self, data_indices, parent):\n",
    "        self.data_indices = data_indices\n",
    "        self.left = None\n",
    "        self.right = None\n",
    "        self.split_feature = None\n",
    "        self.split_value = None\n",
    "        if parent:\n",
    "            #copy all things from parent\n",
    "            self.depth = parent.depth + 1\n",
    "            self.data = parent.data\n",
    "            self.labels = parent.labels\n",
    "\n",
    "\n",
    "def greedy_test(node, cost_fn):\n",
    "    best_cost = np.inf\n",
    "    best_feature, best_value = None, None\n",
    "    num_instances, num_features = node.data.shape\n",
    "    data_sorted = np.sort(node.data[node.data_indices],0)\n",
    "    test_candidates = (data_sorted[1:] + data_sorted[:-1]) / 2.\n",
    "    #for each features\n",
    "    for f in range(num_features):\n",
    "        data_f = node.data[node.data_indices, f]\n",
    "        #for each test value in the feature\n",
    "        for test in test_candidates[:,f]:\n",
    "            left_indices = node.data_indices[data_f <= test]\n",
    "            right_indices = node.data_indices[data_f > test]\n",
    "            if len(left_indices) == 0 or len(right_indices) == 0:\n",
    "                continue\n",
    "            #recursive call for left and right\n",
    "            left_cost = cost_fn(node.labels[left_indices])\n",
    "            right_cost = cost_fn(node.labels[right_indices])\n",
    "            num_left, num_right = left_indices.shape[0], right_indices.shape[0]\n",
    "            cost = (num_left * left_cost + num_right * right_cost)/num_instances\n",
    "            if cost < best_cost:\n",
    "                best_cost = cost\n",
    "                best_feature = f\n",
    "                best_value = test\n",
    "    return best_cost, best_feature, best_value\n",
    "\n",
    "#we need to create functions for cost function.\n",
    "def mean_square(labels):\n",
    "    mean = labels.mean()\n",
    "    return np.sum((labels-mean)**2)/labels.size\n",
    "def mean_absolute(labels):\n",
    "    mean = labels.mean()\n",
    "    return np.sum(abs(labels-mean))/labels.size\n",
    "\n",
    "class DecisionTree:\n",
    "    def __init__(self, max_depth=5, cost_fn=mean_square, min_leaf_instances=1):\n",
    "        #, num_classes=None\n",
    "        self.max_depth = max_depth\n",
    "        self.root = None\n",
    "        self.cost_fn = cost_fn\n",
    "        #self.num_classes = num_classes\n",
    "        self.min_leaf_instances = min_leaf_instances\n",
    "        \n",
    "    def fit(self, data, labels):\n",
    "        pass\n",
    "    \n",
    "    def predict(self, data_test):\n",
    "        pass\n",
    "    \n",
    "    \n",
    "def fit(self, data, labels):\n",
    "    #take in data and labels\n",
    "    self.data = data\n",
    "    self.labels = labels\n",
    "    self.root = Node(np.arange(data.shape[0]), None)\n",
    "    self.root.data = data\n",
    "    self.root.labels = labels\n",
    "    self.root.depth = 0\n",
    "    self._fit_tree(self.root)\n",
    "    return self\n",
    "\n",
    "def fit_tree(self, node):\n",
    "    if node.depth == self.max_depth or len(node.data_indices) <= self.min_leaf_instances:\n",
    "        return\n",
    "    cost, split_feature, split_value = greedy_test(node, self.cost_fn)\n",
    "    if np.isinf(cost):\n",
    "        return\n",
    "    test = node.data[node.data_indices,split_feature] <= split_value\n",
    "    node.split_feature = split_feature\n",
    "    node.split_value = split_value\n",
    "    #recursively construct the tree\n",
    "    left = Node(node.data_indices[test], node)\n",
    "    right = Node(node.data_indices[np.logical_not(test)], node)\n",
    "    self._fit_tree(left)\n",
    "    self._fit_tree(right)\n",
    "    node.left = left\n",
    "    node.right = right\n",
    "\n",
    "DecisionTree.fit = fit\n",
    "DecisionTree._fit_tree = fit_tree\n",
    "\n",
    "\n",
    "def predict(self, data_test):\n",
    "    predictions = np.zeros((data_test.shape[0],1))\n",
    "    for n, x in enumerate(data_test):\n",
    "        node = self.root\n",
    "        while node.left:\n",
    "            if x[node.split_feature] <= node.split_value:\n",
    "                node = node.left\n",
    "            else:\n",
    "                node = node.right\n",
    "        \n",
    "        #find the mean of the labels avaliable\n",
    "        predictions[n,0] = node.labels[node.data_indices].mean()\n",
    "    return predictions #class_probs\n",
    "DecisionTree.predict = predict"
   ]
  },
  {
   "cell_type": "markdown",
   "metadata": {},
   "source": [
    "each time we report validation error, we report one single value(accuracy) for any given x_train, y_train, x_test, y_test and hyperparameter of model. We make functions of them so we can reuse them"
   ]
  },
  {
   "cell_type": "code",
   "execution_count": 5,
   "metadata": {},
   "outputs": [],
   "source": [
    "def validation_error_KNN_our(x_train, y_train, x_test, y_test, K):\n",
    "    #instantiate model\n",
    "    model = KNN(K, dist_fn=euclidean)\n",
    "    #train the model and predicts\n",
    "    y_prob, knns = model.fit(x_train, y_train).predict(x_test)\n",
    "    #get prediction for each input\n",
    "    y_pred = np.mean(y_prob,1) #axis=1\n",
    "    #calculate mean of square errors\n",
    "    accuracy1 = np.sum((y_pred - y_test)**2)/y_test.shape[0]\n",
    "    return accuracy1\n",
    "\n",
    "def validation_error_KNN_built_in(x_train, y_train, x_test, y_test, K):\n",
    "    #instantiate model\n",
    "    neigh = KNeighborsClassifier(n_neighbors=K)\n",
    "    a = y_train.T.ravel()\n",
    "    #fit the model\n",
    "    neigh.fit(x_train.tolist(), a.tolist())\n",
    "    #get prediction\n",
    "    pred = neigh.predict(x_test.tolist())\n",
    "    #get accuracy, mean of square errors.\n",
    "    accuracy2 = np.sum((pred - y_test)**2)/y_test.shape[0]\n",
    "    return accuracy2\n",
    "def validation_error_decision_tree_our(x_train, y_train, x_test, y_test, depth):\n",
    "    #instantiate model\n",
    "    tree = DecisionTree(max_depth=depth)\n",
    "    #train model and make predictions\n",
    "    y_pred = tree.fit(x_train, y_train).predict(x_test)\n",
    "    #report mean of square errors\n",
    "    accuracy1 = np.sum((y_pred - y_test)**2)/y_test.shape[0]\n",
    "    return accuracy1\n",
    "\n",
    "def validation_error_decision_tree_built_in(x_train, y_train, x_test, y_test, depth):\n",
    "    X = x_train.tolist()\n",
    "    y = y_train.T.ravel().tolist()\n",
    "    #instantiate model\n",
    "    clf = DecisionTreeRegressor(max_depth=depth, random_state=5)\n",
    "    #fit the model\n",
    "    clf.fit(X, y)\n",
    "    #make predictions\n",
    "    y_pred = clf.predict(x_test.tolist())\n",
    "    #report mean of square errors\n",
    "    accuracy2 = np.sum((y_pred.ravel() - y_test.T.ravel())**2)/y_test.shape[0]\n",
    "    return accuracy2\n"
   ]
  },
  {
   "cell_type": "markdown",
   "metadata": {},
   "source": [
    "Either we want to split in date or region, we separate data into two parts, one is training data, and the other one is test data; for each hyperparameter, we report an MSE between prediction and y_test. For convinience, we return the list of MSE"
   ]
  },
  {
   "cell_type": "code",
   "execution_count": 6,
   "metadata": {},
   "outputs": [],
   "source": [
    "def error_date(dataf,validating_error_type, n=30):\n",
    "    #all data before 2020-08-10 are for testing\n",
    "    train = (dataf[dataf['date']<='2020-08-10']).to_numpy()\n",
    "    #all data after 2020-08-10 is for testing\n",
    "    test = (dataf[dataf['date']>'2020-08-10']).to_numpy()\n",
    "    #split each part to data and labels\n",
    "    x_train, y_train = (train[:,2:])[:,1:], (train[:,2:])[:,:1]\n",
    "    x_test, y_test = (test[:,2:])[:,1:], (test[:,2:])[:,:1]\n",
    "    errors_date = []\n",
    "    for K in range(2,n):\n",
    "        #report each error for differen hyperparameters\n",
    "        accuracy1 = validating_error_type(x_train, y_train, x_test, y_test, K)\n",
    "        errors_date.append(accuracy1)\n",
    "    #return all errors\n",
    "    return errors_date\n",
    "\n",
    "\n",
    "def datalistfn(a,L, dataf):\n",
    "    cols = dataf.columns\n",
    "    n = a.shape[0]\n",
    "    parts = {}\n",
    "    for i in range(L):\n",
    "        #each part is a tuple, start index and end index\n",
    "        parts[i] = (round(i*n/L), round((i+1)*n/L))\n",
    "    #we will make a datalist of length L, each is a slice of the dataf\n",
    "    datalist = []\n",
    "    for i in parts:\n",
    "        #make an empty dataframe\n",
    "        d = pd.DataFrame(0, index=np.arange(0), columns=cols)\n",
    "        for j in range(parts[i][0], parts[i][1]):\n",
    "            #it is based on region_name, so select everything correspond to this region_name\n",
    "            x1 = dataf[dataf['region_name']==a[j]]\n",
    "            d = np.concatenate((d, x1))\n",
    "        datalist.append(d)\n",
    "    #return the datalist for merging L-1 of them\n",
    "    return datalist\n",
    "\n",
    "def x_ys(datalist,i,L,columns1):\n",
    "    test = datalist[i]\n",
    "    rest = list(range(L))\n",
    "    rest.remove(i)\n",
    "    #the rest is the recipe for merging training set, just except for the test\n",
    "    #initialize train as an empty dataset\n",
    "    train = pd.DataFrame(0, index=np.arange(0), columns=columns1)\n",
    "    for j in rest:\n",
    "        train = np.concatenate((train, datalist[j]))\n",
    "    #so train and test are all ready\n",
    "    x_train, y_train = (train[:,2:])[:,1:], (train[:,2:])[:,:1]\n",
    "    x_test, y_test = (test[:,2:])[:,1:], (test[:,2:])[:,:1]\n",
    "    return x_train, y_train, x_test, y_test\n",
    "\n",
    "def error_region(dataf,validating_error_type, n=30):\n",
    "    #all states avaliable\n",
    "    a = dataf['region_name'].unique()\n",
    "    L=5\n",
    "    errors_region = []\n",
    "    datalist = datalistfn(a,L,dataf)\n",
    "    #for each fold\n",
    "    for i in range(L):\n",
    "        x_train, y_train, x_test, y_test = x_ys(datalist,i,L,dataf.columns)\n",
    "        temp_error = []\n",
    "        for K in range(2,n):\n",
    "            #get error for each fold and hyperparameter\n",
    "            accuracy1 = validating_error_type(x_train, y_train, x_test, y_test, K)\n",
    "            temp_error.append(accuracy1)\n",
    "        errors_region.append(temp_error)\n",
    "    #return all errors\n",
    "    return errors_region"
   ]
  },
  {
   "cell_type": "markdown",
   "metadata": {},
   "source": [
    "Now we are ready for the tools we will use during the analysis"
   ]
  },
  {
   "cell_type": "code",
   "execution_count": 7,
   "metadata": {},
   "outputs": [],
   "source": [
    "rawdf = merged_data_df.copy(deep=True)"
   ]
  },
  {
   "cell_type": "markdown",
   "metadata": {},
   "source": [
    "Comparing result deciding whether to normalize or standardize the data, or is a shift is favorable. Since we see that raw data and shifted data gives us the best result, we will use raw data and shift it(as we do in the bottom part in this section) "
   ]
  },
  {
   "cell_type": "code",
   "execution_count": 8,
   "metadata": {},
   "outputs": [],
   "source": [
    "def shift_(inputdf, shift):\n",
    "    list0 = [0]\n",
    "    #every state avaliable\n",
    "    states = inputdf['region_name'].unique()\n",
    "    for i in states:\n",
    "        #all data related to the state\n",
    "        instate = inputdf[inputdf['region_name']==i]\n",
    "        \n",
    "        #index of the records of instate, and we only need the ones start from shift\n",
    "        indexes = inputdf.index[inputdf['region_name'] == i][shift:]\n",
    "        \n",
    "        #(get the column that we want to shift, and get only the useful data*not the first several one\n",
    "        newlist = instate['hospitalized_new'][indexes]\n",
    "        \n",
    "        #restore the index\n",
    "        newlist.index = indexes-shift\n",
    "        \n",
    "        #but the df still has problem, at least we cannot put it back now. We need to make them compatible with 0\n",
    "        shiftlist = pd.Series(list0*shift, dtype=np.float64)\n",
    "        \n",
    "        #append the newlist so it can be put back\n",
    "        newlist = newlist.append(pd.Series(shiftlist), ignore_index=True)\n",
    "        \n",
    "        #restore index so that we can put it back in correct position\n",
    "        newlist.index = newlist.index + (indexes[0]-shift)\n",
    "        \n",
    "        #put the list back to the whole part of original datafram by loc method\n",
    "        inputdf.loc[inputdf[inputdf['region_name']==i]['hospitalized_new'].index, 'hospitalized_new'] = newlist\n",
    "        \n",
    "        #drop the last two rows for each part of a state, because they lack important features, so they are discarded\n",
    "        inputdf.drop(indexes[-1-shift : -1]+1, inplace=True)\n",
    "    return inputdf"
   ]
  },
  {
   "cell_type": "markdown",
   "metadata": {},
   "source": [
    "Now we are ready to shift two values for specific amount. Let's find out which shift and option(raw, normalize or standardize) is the best option. We see there is a three metrics increases for shift 3, and the increased performance of KNN may be due to less data, because it has a large error. One can also regard shift = 4 as a good option; here we do not do it. We will go with shift = 2, because it does not eliminate too much test data"
   ]
  },
  {
   "cell_type": "code",
   "execution_count": 9,
   "metadata": {},
   "outputs": [
    {
     "name": "stdout",
     "output_type": "stream",
     "text": [
      "best MSE's: \n",
      "     df1             df2             df3     \n",
      "shift = 0\n",
      "155189.247449 \t156561.459184 \t156056.275510\n",
      "3098.302448 \t3098.302448 \t3098.302448\n",
      "\n",
      "12398.561379 \t12916.312500 \t12527.084052\n",
      "129.762541 \t129.762541 \t129.762541\n",
      "\n",
      "\n",
      "shift = 1\n",
      "127763.424691 \t129683.511224 \t128787.080556\n",
      "2890.366175 \t2890.366175 \t2890.366175\n",
      "\n",
      "17577.688571 \t15587.508929 \t18018.262857\n",
      "262.221291 \t262.221291 \t262.221291\n",
      "\n",
      "\n",
      "shift = 2\n",
      "106599.190689 \t107565.893495 \t106862.250000\n",
      "2761.687704 \t2761.687704 \t2761.687704\n",
      "\n",
      "14611.903704 \t11994.064815 \t13214.203704\n",
      "269.673480 \t269.673480 \t269.673480\n",
      "\n",
      "\n",
      "shift = 3\n",
      "89320.785503 \t90361.635204 \t91099.908163\n",
      "3115.987505 \t3115.987505 \t3115.987505\n",
      "\n",
      "11186.956731 \t11027.170940 \t11535.735043\n",
      "568.836301 \t568.836301 \t568.836301\n",
      "\n",
      "\n",
      "shift = 4\n",
      "70521.841837 \t68446.812500 \t72234.619898\n",
      "3706.919258 \t3706.919258 \t3706.919258\n",
      "\n",
      "10790.622500 \t12674.497778 \t10325.053333\n",
      "304.964220 \t304.964220 \t304.964220\n",
      "\n",
      "\n",
      "shift = 5\n",
      "43075.612426 \t44108.408163 \t44229.387755\n",
      "3997.325907 \t3997.325907 \t3997.325907\n",
      "\n",
      "14924.291667 \t13706.833333 \t16174.166667\n",
      "214.298168 \t214.298168 \t214.298168\n",
      "\n",
      "\n"
     ]
    }
   ],
   "source": [
    "print(\"best MSE's: \")\n",
    "print(\"     df1             df2             df3     \")\n",
    "#let's try to shift from 0 to 5\n",
    "for k in range(6):     #for each shift\n",
    "    tempdf = rawdf.copy(deep=True)\n",
    "    print('shift = %d' % (k))\n",
    "    \n",
    "    #shift those two columns\n",
    "    df = shift_(tempdf, k)\n",
    "    \n",
    "    #use df as a base, try to normalize it to see the effect\n",
    "    df1 = df.copy(deep=True)\n",
    "    features = df1.columns[3:]\n",
    "    for i in features:\n",
    "        min1 = (df1[i]).min()\n",
    "        dif = (df1[i]).max() - min1\n",
    "        df1[i] = (df1[i]-min1)/dif\n",
    "    \n",
    "    #use df as a base, try to standardize it to see the effect\n",
    "    df2 = df.copy(deep=True)\n",
    "    features = df2.columns[3:]\n",
    "    for i in features:\n",
    "        mean = (df2[i]).mean()\n",
    "        std = (df2[i]).std()\n",
    "        df2[i] = (df2[i]-mean)/std\n",
    "    \n",
    "    #one type of error for all three df's\n",
    "    error1 = error_date(df,validation_error_KNN_our,n=15)\n",
    "    error2 = error_date(df1,validation_error_KNN_our,n=15)\n",
    "    error3 = error_date(df2,validation_error_KNN_our,n=15)\n",
    "    \n",
    "    #report the result of all three df's (by their min)\n",
    "    print(\"%f \\t%f \\t%f\" % (np.min(error1), np.min(error2), np.min(error3)))\n",
    "    \n",
    "    #same thing for decision_tree\n",
    "    error1 = error_date(df,validation_error_decision_tree_our,n=6)\n",
    "    error2 = error_date(df1,validation_error_decision_tree_our,n=6)\n",
    "    error3 = error_date(df2,validation_error_decision_tree_our,n=6)\n",
    "    print(\"%f \\t%f \\t%f\" % (np.min(error1), np.min(error2), np.min(error3)))\n",
    "    print()\n",
    "    \n",
    "    #same thing for split in region\n",
    "    error1 = error_region(df,validation_error_KNN_our,n=15)\n",
    "    error2 = error_region(df1,validation_error_KNN_our,n=15)\n",
    "    error3 = error_region(df2,validation_error_KNN_our,n=15)\n",
    "    print(\"%f \\t%f \\t%f\" % (np.min(error1), np.min(error2), np.min(error3)))\n",
    "    error1 = error_region(df,validation_error_decision_tree_our,n=6)\n",
    "    error2 = error_region(df1,validation_error_decision_tree_our,n=6)\n",
    "    error3 = error_region(df2,validation_error_decision_tree_our,n=6)\n",
    "    print(\"%f \\t%f \\t%f\" % (np.min(error1), np.min(error2), np.min(error3)))\n",
    "    print('\\n')\n",
    "\n",
    "#df is always the dataframe that we will carry on, which this time, is shift 2, and no normalizing and starndaridizing\n",
    "df = shift_(rawdf, 2)"
   ]
  },
  {
   "cell_type": "markdown",
   "metadata": {},
   "source": [
    "We need to compare whether to use built_in or hand_implemented(called our) through out the comparision. It turns out they are simmilar, but ours is better in MSE. We will use our method"
   ]
  },
  {
   "cell_type": "code",
   "execution_count": 10,
   "metadata": {
    "scrolled": true
   },
   "outputs": [
    {
     "name": "stdout",
     "output_type": "stream",
     "text": [
      "date:\n",
      "KNN_our\n",
      " 106599.19068877544 112841.53398522438 12\n",
      "KNN_built_in\n",
      " 140256.5 146068.42788461538 0\n",
      "decision_tree_our\n",
      " 2761.6877038177495 2862.0568645463386 1\n",
      "decision_tree_built_in\n",
      " 2718.9342575482774 2811.1484012542414 2\n",
      "\n",
      "\n",
      "region:\n",
      "KNN_our\n",
      " 75725.79051851855 82266.97463580249 3\n",
      "KNN_built_in\n",
      " 75725.79051851855 82266.97463580249 3\n",
      "decision_tree_our\n",
      " 1052.2531144224663 1477.285055135982 0\n",
      "decision_tree_built_in\n",
      " 1052.2531144224663 1477.285055135982 0\n"
     ]
    }
   ],
   "source": [
    "print('date:')\n",
    "\n",
    "#report error on our code or built-in code for KNN and decision tree for split in date\n",
    "error1 = error_date(df,validation_error_KNN_our,n=15)\n",
    "print('KNN_our\\n', np.min(error1), np.mean(error1), np.argmin(error1))\n",
    "error2 = error_date(df,validation_error_KNN_built_in,n=15)\n",
    "print('KNN_built_in\\n', np.min(error2), np.mean(error2), np.argmin(error2))\n",
    "error1 = error_date(df,validation_error_decision_tree_our,n=6)\n",
    "print('decision_tree_our\\n', np.min(error1), np.mean(error1), np.argmin(error1))\n",
    "error2 = error_date(df,validation_error_decision_tree_built_in,n=6\n",
    "                   )\n",
    "print('decision_tree_built_in\\n', np.min(error2), np.mean(error2), np.argmin(error2))\n",
    "print('\\n')\n",
    "\n",
    "#similarly for splitting in region\n",
    "print('region:')\n",
    "error1 = error_region(df,validation_error_KNN_our,n=6)\n",
    "errorperK1 = np.mean(error1,axis=0)\n",
    "print('KNN_our\\n', np.min(errorperK1), np.mean(errorperK1), np.argmin(errorperK1))\n",
    "error2 = error_region(df,validation_error_KNN_built_in,n=6)\n",
    "errorperK2 = np.mean(error1,axis=0)\n",
    "print('KNN_built_in\\n', np.min(errorperK2), np.mean(errorperK2), np.argmin(errorperK2))\n",
    "error1 = error_region(df,validation_error_decision_tree_our,n=6)\n",
    "errorperK1 = np.mean(error1,axis=0)\n",
    "print('decision_tree_our\\n', np.min(errorperK1), np.mean(errorperK1), np.argmin(errorperK1))\n",
    "error2 = error_region(df,validation_error_decision_tree_built_in,n=6)\n",
    "errorperK2 = np.mean(error1,axis=0)\n",
    "print('decision_tree_built_in\\n', np.min(errorperK2), np.mean(errorperK2), np.argmin(errorperK2))"
   ]
  },
  {
   "cell_type": "markdown",
   "metadata": {},
   "source": [
    "We will plot the MSE for different hyperparameters in one particular setting"
   ]
  },
  {
   "cell_type": "code",
   "execution_count": 11,
   "metadata": {},
   "outputs": [],
   "source": [
    "def show(error, x_label='K', y_label='MSE', title_='MSE for different K'):\n",
    "    x = list(range(2,2+len(error)))\n",
    "    a = plt.figure()\n",
    "    axes = a.add_axes([0.1,0.1,0.8,0.8])\n",
    "    axes.set_ylim([0.95*min(error),1.05*max(error)])\n",
    "    plt.bar(x,error)\n",
    "    plt.xlabel(x_label)\n",
    "    plt.ylabel(y_label)\n",
    "    plt.title(title_)\n",
    "    plt.show()"
   ]
  },
  {
   "cell_type": "markdown",
   "metadata": {},
   "source": [
    "Comparing KNN and decision tree in split by date. Not only MSE for KNN is very high, the graph of KNN shows that the error is less if we averaging between more nearby datapoints, which means the initial prediction, the nearest neighbor, is not good. We had better not use KNN for splitting by date. The MSE for decision tree is lower, and the graph is more normal"
   ]
  },
  {
   "cell_type": "code",
   "execution_count": 12,
   "metadata": {},
   "outputs": [
    {
     "data": {
      "image/png": "[encoded data removed]",
      "text/plain": [
       "<Figure size 432x288 with 1 Axes>"
      ]
     },
     "metadata": {
      "needs_background": "light"
     },
     "output_type": "display_data"
    },
    {
     "name": "stdout",
     "output_type": "stream",
     "text": [
      "KNN: MSE = 103150.528646, K = 24\n"
     ]
    },
    {
     "data": {
      "image/png": "[encoded data removed]",
      "text/plain": [
       "<Figure size 432x288 with 1 Axes>"
      ]
     },
     "metadata": {
      "needs_background": "light"
     },
     "output_type": "display_data"
    },
    {
     "name": "stdout",
     "output_type": "stream",
     "text": [
      "decision tree: MSE = 2761.687704, K = 3\n"
     ]
    }
   ],
   "source": [
    "error1 = error_date(df,validation_error_KNN_our,n=25)\n",
    "show(error1, title_='KNN MSE vs K')\n",
    "print(\"KNN: MSE = %f, K = %d\" % (np.min(error1), np.argmin(error1)+2))#the argmin should increment by 2\n",
    "error2 = error_date(df,validation_error_decision_tree_our,n=12)\n",
    "show(error2, title_='KNN decision tree vs K')\n",
    "print(\"decision tree: MSE = %f, K = %d\" % (np.min(error2), np.argmin(error2)+2))"
   ]
  },
  {
   "cell_type": "markdown",
   "metadata": {},
   "source": [
    "Comparing KNN and decision tree in split by region. Similarly, MSE for KNN is very high, and initial prediction for each x_test, the nearest neighbor, is not good. We had better not use KNN for splitting by region. The MSE for decision tree is lower, and the graph shows we had better make a smaller tree(small depth) to make error lower."
   ]
  },
  {
   "cell_type": "code",
   "execution_count": 13,
   "metadata": {},
   "outputs": [
    {
     "data": {
      "image/png": "[encoded data removed]",
      "text/plain": [
       "<Figure size 432x288 with 1 Axes>"
      ]
     },
     "metadata": {
      "needs_background": "light"
     },
     "output_type": "display_data"
    },
    {
     "name": "stdout",
     "output_type": "stream",
     "text": [
      "KNN: MSE = 61283.148302, K = 24, std = 7596.726794\n"
     ]
    },
    {
     "data": {
      "image/png": "[encoded data removed]",
      "text/plain": [
       "<Figure size 432x288 with 1 Axes>"
      ]
     },
     "metadata": {
      "needs_background": "light"
     },
     "output_type": "display_data"
    },
    {
     "name": "stdout",
     "output_type": "stream",
     "text": [
      "decision tree: MSE = 1052.253114, K = 2, std = 659.275024\n"
     ]
    }
   ],
   "source": [
    "error1 = error_region(df,validation_error_KNN_our,n=25)\n",
    "errorperK1 = np.mean(error1,axis=0)\n",
    "show(errorperK1, title_='KNN MSE vs K')\n",
    "print(\"KNN: MSE = %f, K = %d, std = %f\" % (np.min(errorperK1), np.argmin(errorperK1)+2, np.std(errorperK1)))\n",
    "error2 = error_region(df,validation_error_decision_tree_our,n=12)\n",
    "errorperK2 = np.mean(error2,axis=0)\n",
    "show(errorperK2, title_='decision tree MSE vs K')\n",
    "print(\"decision tree: MSE = %f, K = %d, std = %f\" % (np.min(errorperK2), np.argmin(errorperK2)+2, np.std(errorperK2)))"
   ]
  },
  {
   "cell_type": "markdown",
   "metadata": {},
   "source": [
    "This is the result that we make a model for each region. MSE and best hyperparameters for each region is shown"
   ]
  },
  {
   "cell_type": "code",
   "execution_count": 14,
   "metadata": {},
   "outputs": [
    {
     "name": "stdout",
     "output_type": "stream",
     "text": [
      "state          mean error KNN      mean error decision tree    best K\n",
      "Hawaii: \t29237.211580 \t\t5757.264923 \t\t5\n",
      "Idaho : \t22896.587485 \t\t6931.629025 \t\t2\n",
      "Maine : \t132.024815 \t\t21.817039 \t\t2\n",
      "Montana: \t12418.285507 \t\t2919.592023 \t\t3\n",
      "North Dakota: \t8458.374141 \t\t1337.678401 \t\t2\n",
      "New Hampshire: \t1556.897664 \t\t121.775534 \t\t6\n",
      "South Dakota: \t27106.220145 \t\t5756.283761 \t\t2\n",
      "Wyoming: \t158.204368 \t\t46.091009 \t\t3\n"
     ]
    }
   ],
   "source": [
    "a = df['region_name'].unique()\n",
    "print('state          mean error KNN      mean error decision tree    best K')\n",
    "for i in a:\n",
    "    b = df[df['region_name']==i]\n",
    "    ind1 = np.array(list(range(round(b.shape[0]*0.8))))\n",
    "    ind2 = np.array(list(range(round(b.shape[0]*0.8),b.shape[0])))\n",
    "    train = b.to_numpy()[ind1,2:]\n",
    "    test = b.to_numpy()[ind2,2:]\n",
    "    x_train, y_train = train[:,1:], train[:,:1]\n",
    "    x_test, y_test = test[:,1:], test[:,:1]\n",
    "    error_region_KNN = []\n",
    "    for K in range(2,15):\n",
    "        accuracy1 = validation_error_KNN_our(x_train, y_train, x_test, y_test, K)\n",
    "        error_region_KNN.append(accuracy1)\n",
    "    error_region_decision_tree = []\n",
    "    for K in range(2,15):\n",
    "        accuracy1 = validation_error_decision_tree_our(x_train, y_train, x_test, y_test, K)\n",
    "        error_region_decision_tree.append(accuracy1)\n",
    "    j=i\n",
    "    if(len(i)<6):\n",
    "        j = i+\" \"\n",
    "    print(\"%s: \\t%f \\t\\t%f \\t\\t%d\" % (j, np.mean(error_region_KNN), np.mean(error_region_decision_tree), np.argmin(error_region_decision_tree)+2))"
   ]
  }
 ],
 "metadata": {
  "kernelspec": {
   "display_name": "Python 3",
   "language": "python",
   "name": "python3"
  },
  "language_info": {
   "codemirror_mode": {
    "name": "ipython",
    "version": 3
   },
   "file_extension": ".py",
   "mimetype": "text/x-python",
   "name": "python",
   "nbconvert_exporter": "python",
   "pygments_lexer": "ipython3",
   "version": "3.8.5"
  }
 },
 "nbformat": 4,
 "nbformat_minor": 4
}
